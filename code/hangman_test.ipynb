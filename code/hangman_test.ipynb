{
 "cells": [
  {
   "cell_type": "code",
   "execution_count": 1,
   "metadata": {},
   "outputs": [],
   "source": [
    "from hangman_game import HangmanGame"
   ]
  },
  {
   "cell_type": "code",
   "execution_count": 2,
   "metadata": {},
   "outputs": [],
   "source": [
    "hm = HangmanGame()"
   ]
  },
  {
   "cell_type": "code",
   "execution_count": 3,
   "metadata": {},
   "outputs": [],
   "source": [
    "def guessing_algorithm(hm):\n",
    "    gueesed_letters = hm.guessed_letters\n",
    "    letters_frequency = \"eaionrtlsudgbcypmhfvkwzjqx\"\n",
    "    for l in letters_frequency:\n",
    "        if l not in gueesed_letters:\n",
    "            return l"
   ]
  },
  {
   "cell_type": "code",
   "execution_count": 4,
   "metadata": {},
   "outputs": [
    {
     "name": "stdout",
     "output_type": "stream",
     "text": [
      "thalamotomy\n",
      "The current hint is:  _ _ _ _ _ _ _ _ _ _ _ \n",
      "You guessed the letter e\n",
      "Number of incorrect guesses: 1\n",
      "\n",
      "The current hint is: _ _ _ _ _ _ _ _ _ _ _ \n",
      "You guessed the letter a\n",
      "Number of incorrect guesses: 1\n",
      "\n",
      "The current hint is: _ _ a_ a_ _ _ _ _ _ \n",
      "You guessed the letter i\n",
      "Number of incorrect guesses: 2\n",
      "\n",
      "The current hint is: _ _ a_ a_ _ _ _ _ _ \n",
      "You guessed the letter o\n",
      "Number of incorrect guesses: 2\n",
      "\n",
      "The current hint is: _ _ a_ a_ o_ o_ _ \n",
      "You guessed the letter n\n",
      "Number of incorrect guesses: 3\n",
      "\n",
      "The current hint is: _ _ a_ a_ o_ o_ _ \n",
      "You guessed the letter r\n",
      "Number of incorrect guesses: 4\n",
      "\n",
      "The current hint is: _ _ a_ a_ o_ o_ _ \n",
      "You guessed the letter t\n",
      "Number of incorrect guesses: 4\n",
      "\n",
      "The current hint is: t_ a_ a_ oto_ _ \n",
      "You guessed the letter l\n",
      "Number of incorrect guesses: 4\n",
      "\n",
      "The current hint is: t_ ala_ oto_ _ \n",
      "You guessed the letter s\n",
      "Number of incorrect guesses: 5\n",
      "\n",
      "The current hint is: t_ ala_ oto_ _ \n",
      "You guessed the letter u\n",
      "Number of incorrect guesses: 6\n",
      "\n",
      "The current hint is: t_ ala_ oto_ _ \n",
      "You lose\n"
     ]
    },
    {
     "data": {
      "text/plain": [
       "False"
      ]
     },
     "execution_count": 4,
     "metadata": {},
     "output_type": "execute_result"
    }
   ],
   "source": [
    "hm.start_game(guessing_algorithm=guessing_algorithm, show_word=True, verbose=1)"
   ]
  },
  {
   "cell_type": "code",
   "execution_count": 5,
   "metadata": {},
   "outputs": [
    {
     "data": {
      "text/plain": [
       "['e', 'a', 'i', 'o', 'n', 'r', 't', 'l', 's', 'u']"
      ]
     },
     "execution_count": 5,
     "metadata": {},
     "output_type": "execute_result"
    }
   ],
   "source": [
    "hm.guessed_letters"
   ]
  },
  {
   "cell_type": "code",
   "execution_count": 6,
   "metadata": {},
   "outputs": [
    {
     "data": {
      "application/vnd.jupyter.widget-view+json": {
       "model_id": "d129c8dcdb314997ba947612c56ac372",
       "version_major": 2,
       "version_minor": 0
      },
      "text/plain": [
       "  0%|          | 0/1000 [00:00<?, ?it/s]"
      ]
     },
     "metadata": {},
     "output_type": "display_data"
    },
    {
     "name": "stdout",
     "output_type": "stream",
     "text": [
      "Score: 0.087\n"
     ]
    },
    {
     "data": {
      "text/plain": [
       "87"
      ]
     },
     "execution_count": 6,
     "metadata": {},
     "output_type": "execute_result"
    }
   ],
   "source": [
    "hm.play_multiple_games(1000, guessing_algorithm=guessing_algorithm, verbose=0)"
   ]
  },
  {
   "cell_type": "code",
   "execution_count": 1,
   "metadata": {},
   "outputs": [],
   "source": [
    "from hangman_solutions import  HangmanModel\n",
    "import pandas as pd\n",
    "from tqdm.auto import tqdm"
   ]
  },
  {
   "cell_type": "code",
   "execution_count": 2,
   "metadata": {},
   "outputs": [
    {
     "name": "stdout",
     "output_type": "stream",
     "text": [
      "Training Model. This may take a while.\n",
      "Training Done!\n"
     ]
    }
   ],
   "source": [
    "hm = HangmanModel()"
   ]
  },
  {
   "cell_type": "code",
   "execution_count": 3,
   "metadata": {},
   "outputs": [
    {
     "name": "stderr",
     "output_type": "stream",
     "text": [
      "  0%|          | 0/100 [00:00<?, ?it/s]"
     ]
    },
    {
     "name": "stderr",
     "output_type": "stream",
     "text": [
      "100%|██████████| 100/100 [00:09<00:00, 10.65it/s]\n"
     ]
    },
    {
     "data": {
      "text/plain": [
       "0.25"
      ]
     },
     "execution_count": 3,
     "metadata": {},
     "output_type": "execute_result"
    }
   ],
   "source": [
    "hm.test(100)"
   ]
  },
  {
   "cell_type": "code",
   "execution_count": 4,
   "metadata": {},
   "outputs": [
    {
     "name": "stderr",
     "output_type": "stream",
     "text": [
      "Tuning...: 100%|██████████| 31/31 [17:15<00:00, 33.41s/it]\n"
     ]
    }
   ],
   "source": [
    "frequency_guess_fractions = [0.5]\n",
    "w1s = [0.03, 0.07]\n",
    "w2s = [0.1, 0.2]\n",
    "w3s = [0.2, 0.4]\n",
    "w4s = [0.2, 0.4]\n",
    "w5s = [0.2, 0.4]\n",
    "all_params_list = [frequency_guess_fractions, w1s, w2s, w3s, w4s, w5s]\n",
    "start = 1 # Where to start\n",
    "end = None\n",
    "start_id = 1 #to be saved on info.txt\n",
    "results = hm.tune_hyperparameters(\n",
    "    all_params_list,\n",
    "    n=200,\n",
    "    verbose=False,\n",
    "    start=start,\n",
    "    end=end,\n",
    "    start_id=start_id,\n",
    ")\n",
    "df = pd.DataFrame(results)\n",
    "df.to_csv(f\"results_{start}.csv\", index=False)"
   ]
  },
  {
   "cell_type": "code",
   "execution_count": 5,
   "metadata": {},
   "outputs": [],
   "source": [
    "df = pd.read_csv(\"results_1.csv\")"
   ]
  },
  {
   "cell_type": "code",
   "execution_count": 6,
   "metadata": {},
   "outputs": [
    {
     "data": {
      "text/html": [
       "<div>\n",
       "<style scoped>\n",
       "    .dataframe tbody tr th:only-of-type {\n",
       "        vertical-align: middle;\n",
       "    }\n",
       "\n",
       "    .dataframe tbody tr th {\n",
       "        vertical-align: top;\n",
       "    }\n",
       "\n",
       "    .dataframe thead th {\n",
       "        text-align: right;\n",
       "    }\n",
       "</style>\n",
       "<table border=\"1\" class=\"dataframe\">\n",
       "  <thead>\n",
       "    <tr style=\"text-align: right;\">\n",
       "      <th></th>\n",
       "      <th>Parameters</th>\n",
       "      <th>Train Score</th>\n",
       "      <th>Test Score</th>\n",
       "    </tr>\n",
       "  </thead>\n",
       "  <tbody>\n",
       "    <tr>\n",
       "      <th>26</th>\n",
       "      <td>(0.5, 0.07, 0.2, 0.2, 0.4, 0.4)</td>\n",
       "      <td>0.435</td>\n",
       "      <td>0.350</td>\n",
       "    </tr>\n",
       "    <tr>\n",
       "      <th>0</th>\n",
       "      <td>(0.5, 0.03, 0.1, 0.2, 0.2, 0.4)</td>\n",
       "      <td>0.455</td>\n",
       "      <td>0.340</td>\n",
       "    </tr>\n",
       "    <tr>\n",
       "      <th>14</th>\n",
       "      <td>(0.5, 0.03, 0.2, 0.4, 0.4, 0.4)</td>\n",
       "      <td>0.420</td>\n",
       "      <td>0.330</td>\n",
       "    </tr>\n",
       "    <tr>\n",
       "      <th>23</th>\n",
       "      <td>(0.5, 0.07, 0.2, 0.2, 0.2, 0.2)</td>\n",
       "      <td>0.485</td>\n",
       "      <td>0.330</td>\n",
       "    </tr>\n",
       "    <tr>\n",
       "      <th>16</th>\n",
       "      <td>(0.5, 0.07, 0.1, 0.2, 0.2, 0.4)</td>\n",
       "      <td>0.460</td>\n",
       "      <td>0.330</td>\n",
       "    </tr>\n",
       "    <tr>\n",
       "      <th>7</th>\n",
       "      <td>(0.5, 0.03, 0.2, 0.2, 0.2, 0.2)</td>\n",
       "      <td>0.375</td>\n",
       "      <td>0.330</td>\n",
       "    </tr>\n",
       "    <tr>\n",
       "      <th>20</th>\n",
       "      <td>(0.5, 0.07, 0.1, 0.4, 0.2, 0.4)</td>\n",
       "      <td>0.465</td>\n",
       "      <td>0.325</td>\n",
       "    </tr>\n",
       "    <tr>\n",
       "      <th>18</th>\n",
       "      <td>(0.5, 0.07, 0.1, 0.2, 0.4, 0.4)</td>\n",
       "      <td>0.450</td>\n",
       "      <td>0.325</td>\n",
       "    </tr>\n",
       "    <tr>\n",
       "      <th>30</th>\n",
       "      <td>(0.5, 0.07, 0.2, 0.4, 0.4, 0.4)</td>\n",
       "      <td>0.420</td>\n",
       "      <td>0.315</td>\n",
       "    </tr>\n",
       "    <tr>\n",
       "      <th>8</th>\n",
       "      <td>(0.5, 0.03, 0.2, 0.2, 0.2, 0.4)</td>\n",
       "      <td>0.515</td>\n",
       "      <td>0.315</td>\n",
       "    </tr>\n",
       "  </tbody>\n",
       "</table>\n",
       "</div>"
      ],
      "text/plain": [
       "                         Parameters  Train Score  Test Score\n",
       "26  (0.5, 0.07, 0.2, 0.2, 0.4, 0.4)        0.435       0.350\n",
       "0   (0.5, 0.03, 0.1, 0.2, 0.2, 0.4)        0.455       0.340\n",
       "14  (0.5, 0.03, 0.2, 0.4, 0.4, 0.4)        0.420       0.330\n",
       "23  (0.5, 0.07, 0.2, 0.2, 0.2, 0.2)        0.485       0.330\n",
       "16  (0.5, 0.07, 0.1, 0.2, 0.2, 0.4)        0.460       0.330\n",
       "7   (0.5, 0.03, 0.2, 0.2, 0.2, 0.2)        0.375       0.330\n",
       "20  (0.5, 0.07, 0.1, 0.4, 0.2, 0.4)        0.465       0.325\n",
       "18  (0.5, 0.07, 0.1, 0.2, 0.4, 0.4)        0.450       0.325\n",
       "30  (0.5, 0.07, 0.2, 0.4, 0.4, 0.4)        0.420       0.315\n",
       "8   (0.5, 0.03, 0.2, 0.2, 0.2, 0.4)        0.515       0.315"
      ]
     },
     "execution_count": 6,
     "metadata": {},
     "output_type": "execute_result"
    }
   ],
   "source": [
    "df.sort_values(\"Test Score\", ascending=False).head(10)"
   ]
  },
  {
   "cell_type": "code",
   "execution_count": null,
   "metadata": {},
   "outputs": [],
   "source": []
  }
 ],
 "metadata": {
  "kernelspec": {
   "display_name": "data-science",
   "language": "python",
   "name": "python3"
  },
  "language_info": {
   "codemirror_mode": {
    "name": "ipython",
    "version": 3
   },
   "file_extension": ".py",
   "mimetype": "text/x-python",
   "name": "python",
   "nbconvert_exporter": "python",
   "pygments_lexer": "ipython3",
   "version": "3.9.15"
  },
  "orig_nbformat": 4
 },
 "nbformat": 4,
 "nbformat_minor": 2
}
