{
 "cells": [
  {
   "cell_type": "markdown",
   "metadata": {},
   "source": [
    "# Imports"
   ]
  },
  {
   "cell_type": "code",
   "execution_count": 2,
   "metadata": {},
   "outputs": [],
   "source": [
    "from hangman_solutions import HangmanModel\n",
    "import numpy as np\n",
    "import pandas as pd"
   ]
  },
  {
   "cell_type": "markdown",
   "metadata": {},
   "source": [
    "# Tuning"
   ]
  },
  {
   "cell_type": "code",
   "execution_count": 2,
   "metadata": {},
   "outputs": [
    {
     "name": "stdout",
     "output_type": "stream",
     "text": [
      "Training Model. This may take a while.\n",
      "Training Done!\n"
     ]
    }
   ],
   "source": [
    "hm = HangmanModel()"
   ]
  },
  {
   "cell_type": "markdown",
   "metadata": {},
   "source": [
    "The weights used for different ngrams will follow as below:\n",
    "\n",
    "- For Unigram, it should be the smallest (0.01 to 0.1)\n",
    "- For Bigram the range will be (0.05, 0.2)\n",
    "- For Trigram (0.15, 0.35)\n",
    "- For Fourgram (0.2, 0.4)\n",
    "- For fivegram (0.2, 0.4)"
   ]
  },
  {
   "cell_type": "markdown",
   "metadata": {},
   "source": [
    "The probability for frequency approach will be fixed to 0.5 and 0.4."
   ]
  },
  {
   "cell_type": "code",
   "execution_count": 3,
   "metadata": {},
   "outputs": [],
   "source": [
    "def get_params(n = 100, p = 0.5):\n",
    "    w1s = np.random.uniform(0.01, 0.1, n)\n",
    "    w2s = np.random.uniform(0.05, 0.2, n)\n",
    "    w3s = np.random.uniform(0.15, 0.35, n)\n",
    "    w4s = np.random.uniform(0.2, 0.4, n)\n",
    "    w5s = np.random.uniform(0.2, 0.4, n)\n",
    "\n",
    "    Ws = np.array([w1s, w2s, w3s, w4s, w5s]).T\n",
    "    Ws = Ws/np.sum(Ws, axis=1).reshape(-1, 1)\n",
    "    print(\"Maximum Values: \", Ws.max(axis = 0))\n",
    "    print(\"Minimum Values: \", Ws.min(axis = 0))\n",
    "\n",
    "    all_params = []\n",
    "    for i in range(n):\n",
    "        w1, w2, w3, w4, w5 = Ws[i]\n",
    "        params = [p, w1, w2, w3, w4, w5]\n",
    "        all_params.append(params)\n",
    "    return all_params"
   ]
  },
  {
   "cell_type": "markdown",
   "metadata": {},
   "source": [
    "## `p = 0.5`"
   ]
  },
  {
   "cell_type": "code",
   "execution_count": 4,
   "metadata": {},
   "outputs": [
    {
     "name": "stdout",
     "output_type": "stream",
     "text": [
      "Maximum Values:  [0.10472378 0.19371313 0.35582464 0.42307262 0.39697491]\n",
      "Minimum Values:  [0.01039792 0.05116172 0.14876981 0.18783901 0.17972107]\n"
     ]
    }
   ],
   "source": [
    "all_params = get_params(n = 100, p = 0.5)"
   ]
  },
  {
   "cell_type": "code",
   "execution_count": null,
   "metadata": {},
   "outputs": [],
   "source": [
    "start = 0\n",
    "end = None\n",
    "start_id = 1\n",
    "p = 0.5\n",
    "results = hm.tune_hyperparameters(\n",
    "    all_params,\n",
    "    do_product = False,\n",
    "    n=200,\n",
    "    verbose=False,\n",
    "    start=start,\n",
    "    end=end,\n",
    "    start_id=start_id,\n",
    "    file_name = f\"tune_info.txt\"\n",
    ")\n",
    "df = pd.DataFrame(results)\n",
    "df.to_csv(f\"results_{p}.csv\", index=False)"
   ]
  },
  {
   "cell_type": "code",
   "execution_count": 15,
   "metadata": {},
   "outputs": [
    {
     "data": {
      "text/html": [
       "<div>\n",
       "<style scoped>\n",
       "    .dataframe tbody tr th:only-of-type {\n",
       "        vertical-align: middle;\n",
       "    }\n",
       "\n",
       "    .dataframe tbody tr th {\n",
       "        vertical-align: top;\n",
       "    }\n",
       "\n",
       "    .dataframe thead th {\n",
       "        text-align: right;\n",
       "    }\n",
       "</style>\n",
       "<table border=\"1\" class=\"dataframe\">\n",
       "  <thead>\n",
       "    <tr style=\"text-align: right;\">\n",
       "      <th></th>\n",
       "      <th>Parameters</th>\n",
       "      <th>Train Score</th>\n",
       "      <th>Test Score</th>\n",
       "    </tr>\n",
       "  </thead>\n",
       "  <tbody>\n",
       "    <tr>\n",
       "      <th>55</th>\n",
       "      <td>[0.5, 0.015491540193713628, 0.0844586261613107...</td>\n",
       "      <td>0.435</td>\n",
       "      <td>0.410</td>\n",
       "    </tr>\n",
       "    <tr>\n",
       "      <th>47</th>\n",
       "      <td>[0.5, 0.06491355418141592, 0.1025559037505019,...</td>\n",
       "      <td>0.455</td>\n",
       "      <td>0.385</td>\n",
       "    </tr>\n",
       "    <tr>\n",
       "      <th>35</th>\n",
       "      <td>[0.5, 0.08881037411815465, 0.14080092269281638...</td>\n",
       "      <td>0.400</td>\n",
       "      <td>0.370</td>\n",
       "    </tr>\n",
       "    <tr>\n",
       "      <th>12</th>\n",
       "      <td>[0.5, 0.09155963838464908, 0.1448096038110149,...</td>\n",
       "      <td>0.455</td>\n",
       "      <td>0.370</td>\n",
       "    </tr>\n",
       "    <tr>\n",
       "      <th>22</th>\n",
       "      <td>[0.5, 0.016331799818210917, 0.0764167717945985...</td>\n",
       "      <td>0.435</td>\n",
       "      <td>0.365</td>\n",
       "    </tr>\n",
       "    <tr>\n",
       "      <th>26</th>\n",
       "      <td>[0.5, 0.04178349234698323, 0.11234494723835466...</td>\n",
       "      <td>0.400</td>\n",
       "      <td>0.365</td>\n",
       "    </tr>\n",
       "    <tr>\n",
       "      <th>67</th>\n",
       "      <td>[0.5, 0.06942950295325293, 0.17146441688179828...</td>\n",
       "      <td>0.415</td>\n",
       "      <td>0.365</td>\n",
       "    </tr>\n",
       "    <tr>\n",
       "      <th>1</th>\n",
       "      <td>[0.5, 0.07913280642537983, 0.11221459671922901...</td>\n",
       "      <td>0.430</td>\n",
       "      <td>0.360</td>\n",
       "    </tr>\n",
       "    <tr>\n",
       "      <th>77</th>\n",
       "      <td>[0.5, 0.021571640859260964, 0.100191548177159,...</td>\n",
       "      <td>0.450</td>\n",
       "      <td>0.360</td>\n",
       "    </tr>\n",
       "    <tr>\n",
       "      <th>23</th>\n",
       "      <td>[0.5, 0.028454965616173094, 0.0969660895624144...</td>\n",
       "      <td>0.455</td>\n",
       "      <td>0.350</td>\n",
       "    </tr>\n",
       "  </tbody>\n",
       "</table>\n",
       "</div>"
      ],
      "text/plain": [
       "                                           Parameters  Train Score  Test Score\n",
       "55  [0.5, 0.015491540193713628, 0.0844586261613107...        0.435       0.410\n",
       "47  [0.5, 0.06491355418141592, 0.1025559037505019,...        0.455       0.385\n",
       "35  [0.5, 0.08881037411815465, 0.14080092269281638...        0.400       0.370\n",
       "12  [0.5, 0.09155963838464908, 0.1448096038110149,...        0.455       0.370\n",
       "22  [0.5, 0.016331799818210917, 0.0764167717945985...        0.435       0.365\n",
       "26  [0.5, 0.04178349234698323, 0.11234494723835466...        0.400       0.365\n",
       "67  [0.5, 0.06942950295325293, 0.17146441688179828...        0.415       0.365\n",
       "1   [0.5, 0.07913280642537983, 0.11221459671922901...        0.430       0.360\n",
       "77  [0.5, 0.021571640859260964, 0.100191548177159,...        0.450       0.360\n",
       "23  [0.5, 0.028454965616173094, 0.0969660895624144...        0.455       0.350"
      ]
     },
     "execution_count": 15,
     "metadata": {},
     "output_type": "execute_result"
    }
   ],
   "source": [
    "df = pd.read_csv(f\"results_{p}.csv\")\n",
    "df = df.sort_values(\"Test Score\", ascending=False)\n",
    "df.head(10)"
   ]
  },
  {
   "cell_type": "markdown",
   "metadata": {},
   "source": [
    "## `p = 0.4`"
   ]
  },
  {
   "cell_type": "code",
   "execution_count": 18,
   "metadata": {},
   "outputs": [],
   "source": [
    "p = 0.4\n",
    "for params in all_params:\n",
    "    params[0] = p"
   ]
  },
  {
   "cell_type": "code",
   "execution_count": 20,
   "metadata": {},
   "outputs": [
    {
     "name": "stderr",
     "output_type": "stream",
     "text": [
      "Tuning...:  96%|█████████▌| 96/100 [52:39<02:24, 36.25s/it]"
     ]
    }
   ],
   "source": [
    "start = 0\n",
    "end = None\n",
    "start_id = 101\n",
    "results = hm.tune_hyperparameters(\n",
    "    all_params,\n",
    "    do_product = False,\n",
    "    n=200,\n",
    "    verbose=False,\n",
    "    start=start,\n",
    "    end=end,\n",
    "    start_id=start_id,\n",
    "    file_name = f\"tune_info.txt\"\n",
    ")\n",
    "df = pd.DataFrame(results)\n",
    "df.to_csv(f\"results_{p}.csv\", index=False)"
   ]
  },
  {
   "cell_type": "markdown",
   "metadata": {},
   "source": [
    "With `p = 0.4`, the performance is very poor."
   ]
  }
 ],
 "metadata": {
  "kernelspec": {
   "display_name": "data-science",
   "language": "python",
   "name": "python3"
  },
  "language_info": {
   "codemirror_mode": {
    "name": "ipython",
    "version": 3
   },
   "file_extension": ".py",
   "mimetype": "text/x-python",
   "name": "python",
   "nbconvert_exporter": "python",
   "pygments_lexer": "ipython3",
   "version": "3.9.15"
  },
  "orig_nbformat": 4
 },
 "nbformat": 4,
 "nbformat_minor": 2
}
